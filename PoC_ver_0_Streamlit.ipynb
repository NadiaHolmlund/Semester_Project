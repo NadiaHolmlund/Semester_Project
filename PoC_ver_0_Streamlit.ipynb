{
  "nbformat": 4,
  "nbformat_minor": 0,
  "metadata": {
    "colab": {
      "provenance": [],
      "authorship_tag": "ABX9TyOJSmeh5ekVjDQqJVYH2Zkr",
      "include_colab_link": true
    },
    "kernelspec": {
      "name": "python3",
      "display_name": "Python 3"
    },
    "language_info": {
      "name": "python"
    }
  },
  "cells": [
    {
      "cell_type": "markdown",
      "metadata": {
        "id": "view-in-github",
        "colab_type": "text"
      },
      "source": [
        "<a href=\"https://colab.research.google.com/github/NadiaHolmlund/Semester_Project/blob/main/PoC_ver_0_Streamlit.ipynb\" target=\"_parent\"><img src=\"https://colab.research.google.com/assets/colab-badge.svg\" alt=\"Open In Colab\"/></a>"
      ]
    },
    {
      "cell_type": "markdown",
      "source": [
        "# Imports"
      ],
      "metadata": {
        "id": "VxeDlmwpYBqC"
      }
    },
    {
      "cell_type": "code",
      "source": [
        "# Pip installs\n",
        "!pip install -q transformers==4.28.0 # Installing version 4.28.0 to circumvent an issue with Accelerator and the introduction of PartialState in later versions\n",
        "!pip install -q transformers datasets"
      ],
      "metadata": {
        "id": "DAhXCCqAJ4qj"
      },
      "execution_count": null,
      "outputs": []
    },
    {
      "cell_type": "code",
      "source": [
        "from transformers import ViTImageProcessor, ViTForImageClassification, ViTModel\n",
        "from PIL import Image\n",
        "import requests"
      ],
      "metadata": {
        "id": "1XubH1c6YOGx"
      },
      "execution_count": null,
      "outputs": []
    },
    {
      "cell_type": "markdown",
      "source": [
        "# Model pipeline"
      ],
      "metadata": {
        "id": "JzzZnHDBpOQv"
      }
    },
    {
      "cell_type": "code",
      "source": [
        "#Examples\n",
        "# https://c0.wallpaperflare.com/preview/990/418/320/adorable-black-and-white-black-and-white-boy.jpg\n",
        "# https://c1.wallpaperflare.com/preview/426/469/292/snarling-child-frown-teeth.jpg"
      ],
      "metadata": {
        "id": "0cZlBVDOMMd-"
      },
      "execution_count": null,
      "outputs": []
    },
    {
      "cell_type": "code",
      "source": [
        "url = 'https://c0.wallpaperflare.com/preview/990/418/320/adorable-black-and-white-black-and-white-boy.jpg'\n",
        "image = Image.open(requests.get(url, stream=True).raw)"
      ],
      "metadata": {
        "id": "BgAUjlnIYPNy"
      },
      "execution_count": null,
      "outputs": []
    },
    {
      "cell_type": "code",
      "source": [
        "processor = ViTImageProcessor.from_pretrained('google/vit-base-patch16-224')\n",
        "model = ViTForImageClassification.from_pretrained('NadiaHolmlund/Semester_Project', num_labels= 7, ignore_mismatched_sizes=True)"
      ],
      "metadata": {
        "colab": {
          "base_uri": "https://localhost:8080/"
        },
        "id": "XE_QgXTebmK5",
        "outputId": "285c285e-7060-4257-cf07-c677cd4d44c9"
      },
      "execution_count": null,
      "outputs": [
        {
          "output_type": "stream",
          "name": "stderr",
          "text": [
            "Some weights of the model checkpoint at NadiaHolmlund/Semester_Project were not used when initializing ViTForImageClassification: ['vit.pooler.dense.weight', 'vit.pooler.dense.bias']\n",
            "- This IS expected if you are initializing ViTForImageClassification from the checkpoint of a model trained on another task or with another architecture (e.g. initializing a BertForSequenceClassification model from a BertForPreTraining model).\n",
            "- This IS NOT expected if you are initializing ViTForImageClassification from the checkpoint of a model that you expect to be exactly identical (initializing a BertForSequenceClassification model from a BertForSequenceClassification model).\n"
          ]
        }
      ]
    },
    {
      "cell_type": "code",
      "source": [
        "emotion_id = [0, 1, 2, 3, 4, 5, 6]\n",
        "emotion_label = ['Anger', 'Disgust', 'Fear', 'Happiness', 'Sadness', 'Surprise', 'Neutral']\n",
        "\n",
        "id2label = {id: label for id, label in zip(emotion_id, emotion_label)}\n",
        "label2id = {label: id for id, label in id2label.items()}"
      ],
      "metadata": {
        "id": "4CKwtiGVmqaw"
      },
      "execution_count": null,
      "outputs": []
    },
    {
      "cell_type": "code",
      "source": [
        "inputs = processor(images=image, return_tensors=\"pt\")\n",
        "outputs = model(**inputs)\n",
        "logits = outputs.logits"
      ],
      "metadata": {
        "id": "HPlj2pGWDxHI"
      },
      "execution_count": null,
      "outputs": []
    },
    {
      "cell_type": "code",
      "source": [
        "# model predicts one of the 1000 ImageNet classes\n",
        "predicted_class_idx = logits.argmax(-1).item()\n",
        "print(\"Predicted class:\", id2label[predicted_class_idx])"
      ],
      "metadata": {
        "colab": {
          "base_uri": "https://localhost:8080/"
        },
        "id": "RlC6CV3lmU1X",
        "outputId": "a787a5dc-febf-4a77-c11e-1a6515123e14"
      },
      "execution_count": null,
      "outputs": [
        {
          "output_type": "stream",
          "name": "stdout",
          "text": [
            "Predicted class: Sadness\n"
          ]
        }
      ]
    },
    {
      "cell_type": "code",
      "source": [
        "# Verify the shape of the classifier weight and bias\n",
        "print(model.classifier.weight.shape)  # Should be torch.Size([7, 768])\n",
        "print(model.classifier.bias.shape)  # Should be torch.Size([7])"
      ],
      "metadata": {
        "colab": {
          "base_uri": "https://localhost:8080/"
        },
        "id": "4-h_-njuMwKb",
        "outputId": "1cd9ca5d-00b0-4dd4-a2df-078c0bb68cd2"
      },
      "execution_count": null,
      "outputs": [
        {
          "output_type": "stream",
          "name": "stdout",
          "text": [
            "torch.Size([7, 768])\n",
            "torch.Size([7])\n"
          ]
        }
      ]
    },
    {
      "cell_type": "markdown",
      "source": [
        "# Creating a dataset for testing"
      ],
      "metadata": {
        "id": "48fa_e01pNC5"
      }
    },
    {
      "cell_type": "code",
      "source": [
        "print(outputs.logits)"
      ],
      "metadata": {
        "colab": {
          "base_uri": "https://localhost:8080/"
        },
        "id": "c4-TTiS0pMus",
        "outputId": "51f1ef9e-4951-4777-e6e9-20e47257e1ce"
      },
      "execution_count": null,
      "outputs": [
        {
          "output_type": "stream",
          "name": "stdout",
          "text": [
            "tensor([[-0.0777, -0.0703, -0.0514, -0.0005,  0.2331,  0.1848,  0.0028]],\n",
            "       grad_fn=<AddmmBackward0>)\n"
          ]
        }
      ]
    },
    {
      "cell_type": "code",
      "source": [
        "values = tensor.tolist()[0]"
      ],
      "metadata": {
        "id": "56elCmZjt8s_"
      },
      "execution_count": null,
      "outputs": []
    },
    {
      "cell_type": "code",
      "source": [
        "fig, ax = plt.subplots(figsize=(8, 6))\n",
        "bars = ax.barh(emotion_label, logits_values, height=0.1)\n",
        "\n",
        "ax.spines['right'].set_visible(False)\n",
        "ax.spines['top'].set_visible(False)\n",
        "ax.spines['left'].set_visible(False)\n",
        "ax.spines['bottom'].set_visible(False)\n",
        "\n",
        "text_position = max(logits_values) + 0.05  # Define the fixed position for the text\n",
        "\n",
        "for i, bar in enumerate(bars):\n",
        "    ax.text(text_position, bar.get_y() + bar.get_height() / 2,\n",
        "            f'{logits_values[i]*100:.2f}%', va='center', ha='right')\n",
        "\n",
        "plt.xticks([])  # Hide the x-axis tick labels\n",
        "\n",
        "# Display the plot using st.pyplot()\n",
        "st.pyplot(fig)\n"
      ],
      "metadata": {
        "colab": {
          "base_uri": "https://localhost:8080/",
          "height": 498
        },
        "id": "hmvXCZnc5tHo",
        "outputId": "fc50f24b-aa63-43d2-ea6c-0af4e0081f60"
      },
      "execution_count": null,
      "outputs": [
        {
          "output_type": "display_data",
          "data": {
            "text/plain": [
              "<Figure size 800x600 with 1 Axes>"
            ],
            "image/png": "[encoded data removed]"
          },
          "metadata": {}
        }
      ]
    },
    {
      "cell_type": "code",
      "source": [],
      "metadata": {
        "id": "j5UDNh6X95RN"
      },
      "execution_count": null,
      "outputs": []
    },
    {
      "cell_type": "markdown",
      "source": [
        "# Streamlit"
      ],
      "metadata": {
        "id": "PApwwHOn_Pgj"
      }
    },
    {
      "cell_type": "code",
      "source": [
        "# PoC Streamlit application\n",
        "\n",
        "# Imports\n",
        "import streamlit as st\n",
        "from transformers import ViTImageProcessor, ViTForImageClassification\n",
        "from PIL import Image\n",
        "import torch\n",
        "#import matplotlib.pyplot as plt\n",
        "\n",
        "# Setting up page configurations\n",
        "st.set_page_config(\n",
        "    page_title=\"Home\",\n",
        "    page_icon=\"💀\",\n",
        "    layout=\"wide\")\n",
        "\n",
        "# Loading data, models, scalers, explainers, etc., only once\n",
        "@st.experimental_singleton\n",
        "def read_objects():\n",
        "    # Importing processor and model\n",
        "    processor = ViTImageProcessor.from_pretrained('google/vit-base-patch16-224')\n",
        "    model = ViTForImageClassification.from_pretrained('NadiaHolmlund/Semester_Project', num_labels= 7, ignore_mismatched_sizes=True)\n",
        "   \n",
        "    # Creating labels\n",
        "    emotion_id = [0, 1, 2, 3, 4, 5, 6]\n",
        "    emotion_label = ['Anger', 'Disgust', 'Fear', 'Happiness', 'Sadness', 'Surprise', 'Neutral']\n",
        "    id2label = {id: label for id, label in zip(emotion_id, emotion_label)}\n",
        "\n",
        "    img_angry = st.image('NadiaHolmlund/Semester_Project/pages/Streamlit_content/img_angry.jpg')\n",
        "    img_sad = st.image('NadiaHolmlund/Semester_Project/pages/Streamlit_content/img_sad.jpg')\n",
        "    img_happy = st.image('NadiaHolmlund/Semester_Project/pages/Streamlit_content/img_happy.jpg')\n",
        "\n",
        "    return processor, model, emotion_id, emotion_label, id2label, img_angry, img_sad, img_happy\n",
        "\n",
        "\n",
        "processor, model, emotion_id, emotion_label, id2label, img_angry, img_sad, img_happy = read_objects()\n",
        "\n",
        "\n",
        "\n",
        "\n",
        "\n",
        "\n",
        "\n",
        "\n",
        "# Defining a function to classify the image\n",
        "def classify_image(image):\n",
        "    inputs = processor(images=image, return_tensors=\"pt\")\n",
        "    outputs = model(**inputs)\n",
        "    logits = outputs.logits\n",
        "\n",
        "    # Model predicts one of the 7 emotion classes\n",
        "    predicted_class_id = logits.argmax(-1).item()\n",
        "    predicted_class_label = id2label[predicted_class_id]\n",
        "\n",
        "    return predicted_class_label\n",
        "\n",
        "\n",
        "\n",
        "\n",
        "\n",
        "\n",
        "\n",
        "\n",
        "\n",
        "\n",
        "\n",
        "tab1, tab2 = st.tabs(['PoC on stock images', 'PoC on yourself'])\n",
        "\n",
        "\n",
        "\n",
        "\n",
        "\n",
        "\n",
        "with tab1:\n",
        "    col1, col2 = st.columns(2)\n",
        "\n",
        "    with col1:\n",
        "        \n",
        "\n",
        "    with col1:\n",
        "        st.write(\"hello\")\n",
        "\n",
        "\n",
        "\n",
        "\n",
        "\n",
        "\n",
        "\n",
        "\n",
        "\n",
        "\n",
        "\n",
        "\n",
        "\n",
        "\n",
        "\n",
        "\n",
        "with tab2:\n",
        "    col1, col2 = st.columns(2)\n",
        "\n",
        "    with col1:\n",
        "        img_file_buffer = st.camera_input(\"Take a picture\")\n",
        "\n",
        "        if img_file_buffer is not None:\n",
        "            # Read image file buffer as a PIL Image:\n",
        "            img = Image.open(img_file_buffer)\n",
        "            \n",
        "            # Apply classification model to the image\n",
        "            classification = classify_image(img)\n",
        "\n",
        "\n",
        "\n",
        "\n",
        "\n",
        "\n",
        "\n",
        "\n",
        "\n",
        "\n",
        "    with col2:\n",
        "        st.write()'hello')\n",
        "        #if img_file_buffer is not None:\n",
        "            #logits = outputs.logits\n",
        "            #labels = emotion_label\n",
        "\n",
        "            #values = logits.tolist()[0]\n",
        "\n",
        "            #plt.figure(figsize=(8, 6))\n",
        "            #plt.barh(labels, values)\n",
        "            #plt.xlabel('Logit Value')\n",
        "            #plt.ylabel('Label')\n",
        "            \n",
        "            # Display the graph in Streamlit\n",
        "            #st.pyplot(plt)\n",
        "\n"
      ],
      "metadata": {
        "id": "uZxBES0T_Qb-"
      },
      "execution_count": null,
      "outputs": []
    },
    {
      "cell_type": "code",
      "source": [
        "# Loading processor, model, labels and images only once\n",
        "@st.experimental_singleton\n",
        "def read_objects():\n",
        "    # Importing processor and model\n",
        "    processor = ViTImageProcessor.from_pretrained('google/vit-base-patch16-224')\n",
        "    model = ViTForImageClassification.from_pretrained('NadiaHolmlund/Semester_Project', num_labels= 7, ignore_mismatched_sizes=True)\n",
        "   \n",
        "    # Creating labels\n",
        "    emotion_id = [0, 1, 2, 3, 4, 5, 6]\n",
        "    emotion_label = ['Anger', 'Disgust', 'Fear', 'Happiness', 'Sadness', 'Surprise', 'Neutral']\n",
        "    id2label = {id: label for id, label in zip(emotion_id, emotion_label)}\n",
        "\n",
        "    # Importing images\n",
        "    img_anger = Image.open(BytesIO(requests.get('https://github.com/NadiaHolmlund/Semester_Project/raw/main/Streamlit_content/img_anger.jpg').content))\n",
        "    img_hapiness = Image.open(BytesIO(requests.get('https://github.com/NadiaHolmlund/Semester_Project/raw/main/Streamlit_content/img_happiness.jpg').content))\n",
        "    img_sadness = Image.open(BytesIO(requests.get('https://github.com/NadiaHolmlund/Semester_Project/raw/main/Streamlit_content/img_sadness.jpg').content))\n",
        "\n",
        "    return processor, model, emotion_id, emotion_label, id2label, img_anger, img_happiness, img_sadness\n",
        "\n",
        "processor, model, emotion_id, emotion_label, id2label, img_anger, img_happiness, img_sadness = read_objects()"
      ],
      "metadata": {
        "id": "cVYUFMedIO5c"
      },
      "execution_count": null,
      "outputs": []
    }
  ]
}